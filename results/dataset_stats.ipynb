{
 "cells": [
  {
   "cell_type": "code",
   "execution_count": 1,
   "metadata": {},
   "outputs": [],
   "source": [
    "from flair.datasets.sequence_labeling import ColumnCorpus"
   ]
  },
  {
   "cell_type": "code",
   "execution_count": 5,
   "metadata": {},
   "outputs": [],
   "source": [
    "MAX_LENGTH=512\n",
    "\n",
    "def filter_long(dataset):\n",
    "    return [x for x in dataset if len(x) <= MAX_LENGTH]\n",
    "\n",
    "def print_stats(input_path, train_file, test_file, dev_file):\n",
    "    columns = {0 : 'text', 1 : 'ner'}\n",
    "    corpus = ColumnCorpus(input_path, columns, train_file=train_file, test_file=test_file, dev_file=dev_file) \n",
    "    corpus._train = filter_long(corpus.train)\n",
    "    corpus._dev = filter_long(corpus.dev)\n",
    "    corpus._test = filter_long(corpus.test)\n",
    "    print(corpus)"
   ]
  },
  {
   "cell_type": "code",
   "execution_count": 6,
   "metadata": {},
   "outputs": [
    {
     "name": "stdout",
     "output_type": "stream",
     "text": [
      "2021-04-15 13:42:37,975 Reading data from ../ontonotes\n",
      "2021-04-15 13:42:37,976 Train: ../ontonotes/onto_train.txt\n",
      "2021-04-15 13:42:37,977 Dev: ../ontonotes/onto_valid.txt\n",
      "2021-04-15 13:42:37,978 Test: ../ontonotes/onto_test.txt\n",
      "Corpus: 81401 train + 12266 dev + 8982 test sentences\n"
     ]
    }
   ],
   "source": [
    "print_stats('../ontonotes', 'onto_train.txt', 'onto_test.txt', 'onto_valid.txt')"
   ]
  },
  {
   "cell_type": "code",
   "execution_count": 7,
   "metadata": {},
   "outputs": [
    {
     "name": "stdout",
     "output_type": "stream",
     "text": [
      "2021-04-15 13:43:55,389 Reading data from ../sec\n",
      "2021-04-15 13:43:55,390 Train: ../sec/data_train.txt\n",
      "2021-04-15 13:43:55,391 Dev: None\n",
      "2021-04-15 13:43:55,392 Test: ../sec/data_test.txt\n",
      "Corpus: 1048 train + 116 dev + 302 test sentences\n"
     ]
    }
   ],
   "source": [
    "print_stats('../sec', 'data_train.txt', 'data_test.txt', None)"
   ]
  }
 ],
 "metadata": {
  "kernelspec": {
   "display_name": "Python 3",
   "language": "python",
   "name": "python3"
  },
  "language_info": {
   "codemirror_mode": {
    "name": "ipython",
    "version": 3
   },
   "file_extension": ".py",
   "mimetype": "text/x-python",
   "name": "python",
   "nbconvert_exporter": "python",
   "pygments_lexer": "ipython3",
   "version": "3.6.9"
  }
 },
 "nbformat": 4,
 "nbformat_minor": 4
}
